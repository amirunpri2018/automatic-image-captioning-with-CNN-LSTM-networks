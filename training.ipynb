{
 "cells": [
  {
   "cell_type": "code",
   "execution_count": null,
   "metadata": {},
   "outputs": [],
   "source": [
    "from models import xception_feature_extractor, caption_model\n",
    "from tensorflow.python.keras.applications.xception import preprocess_input\n",
    "from tensorflow.python.keras.optimizers import RMSprop, Adam\n",
    "from tensorflow.python.keras.utils import multi_gpu_model, Sequence, to_categorical\n",
    "from tensorflow.python.keras.preprocessing.image import load_img, img_to_array\n",
    "from tensorflow.python.keras.callbacks import TensorBoard, ModelCheckpoint\n",
    "import tensorflow as tf\n",
    "import matplotlib.pyplot as plt\n",
    "from tqdm import tqdm\n",
    "import numpy as np\n",
    "import pickle\n",
    "import os"
   ]
  },
  {
   "cell_type": "code",
   "execution_count": null,
   "metadata": {},
   "outputs": [],
   "source": [
    "img_height, img_width = 299, 299"
   ]
  },
  {
   "cell_type": "code",
   "execution_count": null,
   "metadata": {},
   "outputs": [],
   "source": [
    "image_dir = 'images/train2014'\n",
    "def get_image(path:str):\n",
    "    image = load_img(path, target_size=(img_height, img_width, 3))\n",
    "    image = img_to_array(image)\n",
    "    image = preprocess_input(image)\n",
    "    return image"
   ]
  },
  {
   "cell_type": "code",
   "execution_count": null,
   "metadata": {},
   "outputs": [],
   "source": [
    "with open('wordtoidx.pkl', 'rb') as f:\n",
    "    word_idx = pickle.load(f)\n",
    "idx_word = {v:k for k,v in word_idx.items()}\n",
    "vocab_size = len(idx_word)\n",
    "print(f'words in vocab = {vocab_size}')\n",
    "\n",
    "def wordtoidx(word:str):\n",
    "    idx = word_idx[word]\n",
    "    return idx\n",
    "\n",
    "def idxtoword(idx:int):\n",
    "    if idx == 0:\n",
    "        return ''\n",
    "    word = idx_word[idx]\n",
    "    return word"
   ]
  },
  {
   "cell_type": "code",
   "execution_count": null,
   "metadata": {},
   "outputs": [],
   "source": [
    "# fe = xception_feature_extractor()\n",
    "# image_embeddings = {}\n",
    "# for image in tqdm(os.listdir('images/train2014')):\n",
    "#     img = get_image(f'images/train2014/{image}')\n",
    "#     embedding = fe.predict(np.expand_dims(img, axis=0))\n",
    "#     image_embeddings[image] = embedding\n",
    "# with open('image_embeddings.pkl', 'wb') as f:\n",
    "#     pickle.dump(image_embeddings, f)"
   ]
  },
  {
   "cell_type": "code",
   "execution_count": null,
   "metadata": {},
   "outputs": [],
   "source": [
    "with open('image_embeddings.pkl', 'rb') as f:\n",
    "    image_embeddings = pickle.load( f)"
   ]
  },
  {
   "cell_type": "code",
   "execution_count": null,
   "metadata": {},
   "outputs": [],
   "source": [
    "try:\n",
    "    image_names = np.load('image_names.npy')\n",
    "    encoded_partial_captions = np.load('encoded_partial_captions.npy')\n",
    "    next_words = np.load('next_words.npy')\n",
    "#     next_words = to_categorical(next_words, num_classes=21306)\n",
    "    print('loaded training data')\n",
    "except:\n",
    "    print('Error in loading traning data')"
   ]
  },
  {
   "cell_type": "code",
   "execution_count": null,
   "metadata": {},
   "outputs": [],
   "source": [
    "class Data_generator(Sequence):\n",
    "    def __init__(self, image_embedding_dict, image_names, partial_caps, next_words, batch_size):\n",
    "        assert len(partial_caps) == len(next_words)\n",
    "        self.image_embeddings = image_embedding_dict\n",
    "        self.images = image_names\n",
    "        self.partial_caps = partial_caps\n",
    "        self.next_words = next_words\n",
    "        self.batch_size = batch_size\n",
    "        self.samples = len(partial_caps)\n",
    "        print(f'Found {self.samples} datapoints')\n",
    "\n",
    "    def __len__(self):\n",
    "        return int(np.ceil(len(self.partial_caps) / float(self.batch_size)))\n",
    "\n",
    "    def __getitem__(self, idx):\n",
    "        idx = np.random.randint(0, self.samples, self.batch_size)\n",
    "        batch_ximg, batch_xcap, batch_y = [], [], []\n",
    "        for i in idx:\n",
    "            image = self.image_embeddings[self.images[i]][0]\n",
    "            partial_caption = self.partial_caps[i]\n",
    "            next_word = self.next_words[i]\n",
    "            batch_ximg.append(image)\n",
    "            batch_xcap.append(partial_caption)\n",
    "            batch_y.append(next_word)\n",
    "        return [np.array(batch_ximg), np.array(batch_xcap)], np.array(batch_y)"
   ]
  },
  {
   "cell_type": "code",
   "execution_count": null,
   "metadata": {},
   "outputs": [],
   "source": [
    "train_generator = Data_generator(image_embeddings, image_names, encoded_partial_captions, next_words, 512)\n",
    "steps = train_generator.__len__()"
   ]
  },
  {
   "cell_type": "code",
   "execution_count": null,
   "metadata": {},
   "outputs": [],
   "source": [
    "c_model = caption_model(max_len=50, vocab_size=vocab_size, train=True)"
   ]
  },
  {
   "cell_type": "code",
   "execution_count": null,
   "metadata": {},
   "outputs": [],
   "source": [
    "with open('embedding_layer_weights', 'rb') as f:\n",
    "    embedding_layer_weights = pickle.load(f)\n",
    "layer = c_model.get_layer('embedding')\n",
    "layer.set_weights([embedding_layer_weights])\n",
    "\n",
    "c_model.compile(loss='sparse_categorical_crossentropy', optimizer=Adam(lr=1e-4), metrics=['accuracy'])"
   ]
  },
  {
   "cell_type": "code",
   "execution_count": null,
   "metadata": {},
   "outputs": [],
   "source": [
    "tb = TensorBoard(log_dir='logs', write_graph=True)\n",
    "chkpt = ModelCheckpoint('models/top_weights_p.h5', monitor='acc', save_best_only=True, save_weights_only=True, verbose=1)\n",
    "callbacks = [tb, chkpt]"
   ]
  },
  {
   "cell_type": "code",
   "execution_count": null,
   "metadata": {},
   "outputs": [],
   "source": [
    "history = c_model.fit_generator(train_generator, steps_per_epoch=steps, epochs=30, callbacks=callbacks)\n",
    "c_model.save('models/model.h5')"
   ]
  }
 ],
 "metadata": {
  "kernelspec": {
   "display_name": "Python 3",
   "language": "python",
   "name": "python3"
  },
  "language_info": {
   "codemirror_mode": {
    "name": "ipython",
    "version": 3
   },
   "file_extension": ".py",
   "mimetype": "text/x-python",
   "name": "python",
   "nbconvert_exporter": "python",
   "pygments_lexer": "ipython3",
   "version": "3.6.5"
  }
 },
 "nbformat": 4,
 "nbformat_minor": 2
}
