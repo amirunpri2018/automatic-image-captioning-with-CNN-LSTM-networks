{
 "cells": [
  {
   "cell_type": "code",
   "execution_count": 4,
   "metadata": {},
   "outputs": [],
   "source": [
    "import numpy as np\n",
    "import pickle\n",
    "from tqdm import tqdm"
   ]
  },
  {
   "cell_type": "code",
   "execution_count": 5,
   "metadata": {},
   "outputs": [],
   "source": [
    "with open('wordtoidx.pkl', 'rb') as f:\n",
    "    word_idx = pickle.load(f)\n",
    "idx_word = {v:k for k,v in word_idx.items()}\n",
    "\n",
    "def wordtoidx(word:str):\n",
    "    idx = word_idx[word]\n",
    "    return idx\n",
    "\n",
    "def idxtoword(idx:int):\n",
    "    if idx == 0:\n",
    "        return ''\n",
    "    word = idx_word[idx]\n",
    "    return word"
   ]
  },
  {
   "cell_type": "code",
   "execution_count": 6,
   "metadata": {},
   "outputs": [],
   "source": [
    "with open('glove_embeddings/glove.6B.300d.txt', 'r') as f:\n",
    "    raw_glove_data = f.read()"
   ]
  },
  {
   "cell_type": "code",
   "execution_count": 7,
   "metadata": {},
   "outputs": [
    {
     "name": "stderr",
     "output_type": "stream",
     "text": [
      "100%|██████████| 400000/400000 [00:20<00:00, 19586.62it/s]\n"
     ]
    }
   ],
   "source": [
    "glove_embedding_matrix = {}\n",
    "for line in tqdm(raw_glove_data.split('\\n')[:-1]):\n",
    "    word = line.split()[0]\n",
    "    embedding = np.asarray(line.split()[1:], dtype=np.float32)\n",
    "    glove_embedding_matrix[word] = embedding\n",
    "\n",
    "# with open('glove_embedding_matrix', 'wb') as f:\n",
    "#     pickle.dump(glove_embedding_matrix, f)"
   ]
  },
  {
   "cell_type": "code",
   "execution_count": 8,
   "metadata": {},
   "outputs": [
    {
     "name": "stdout",
     "output_type": "stream",
     "text": [
      "10970\n"
     ]
    }
   ],
   "source": [
    "vocab_size = len(list(word_idx.keys()))\n",
    "print(vocab_size)\n",
    "embedding_layer_weights = np.random.normal(size=(vocab_size+1, 300))\n",
    "unknown = []\n",
    "for word, idx in word_idx.items():\n",
    "    if word in glove_embedding_matrix:\n",
    "        embedding_layer_weights[idx] = glove_embedding_matrix[word]\n",
    "    else:\n",
    "        unknown.append(word)\n",
    "        \n",
    "with open('embedding_layer_weights', 'wb') as f:\n",
    "    pickle.dump(embedding_layer_weights, f)"
   ]
  },
  {
   "cell_type": "code",
   "execution_count": 9,
   "metadata": {},
   "outputs": [
    {
     "data": {
      "text/plain": [
       "(10971, 300)"
      ]
     },
     "execution_count": 9,
     "metadata": {},
     "output_type": "execute_result"
    }
   ],
   "source": [
    "embedding_layer_weights.shape"
   ]
  },
  {
   "cell_type": "code",
   "execution_count": null,
   "metadata": {},
   "outputs": [],
   "source": []
  }
 ],
 "metadata": {
  "kernelspec": {
   "display_name": "Python 3",
   "language": "python",
   "name": "python3"
  },
  "language_info": {
   "codemirror_mode": {
    "name": "ipython",
    "version": 3
   },
   "file_extension": ".py",
   "mimetype": "text/x-python",
   "name": "python",
   "nbconvert_exporter": "python",
   "pygments_lexer": "ipython3",
   "version": "3.6.5"
  }
 },
 "nbformat": 4,
 "nbformat_minor": 2
}
